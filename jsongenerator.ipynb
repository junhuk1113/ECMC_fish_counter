{
 "cells": [
  {
   "cell_type": "code",
   "execution_count": 3,
   "metadata": {},
   "outputs": [],
   "source": [
    "file_style = \"{\\n\\\"parent\\\": \\\"minecraft:item/generated\\\",\\n\\\"textures\\\": {\\n\\\"layer0\\\": \\\"pyrofishinghelper:item/\"\n",
    "file_style2 = \"\\\"\\n}\\n}\"\n",
    "\n",
    "fish_type = [\"common\",\"uncommon\",\"rare\",\"epic\",\"legendary\",\"mythic\"]\n",
    "fish_num = (20,17,16,12,10,10)"
   ]
  },
  {
   "cell_type": "code",
   "execution_count": 4,
   "metadata": {},
   "outputs": [],
   "source": [
    "for i in range(len(fish_type)):\n",
    "\n",
    "    for j in range(fish_num[i]):\n",
    "        #print(\"json/\"+fish_type+\"_\"+str(j))\n",
    "        f = open(\"json/\"+fish_type[i]+\"_\"+str(j)+\".json\", 'w')\n",
    "        f.write(file_style)\n",
    "        f.write(fish_type[i]+\"_\"+str(j))\n",
    "        f.write(file_style2)\n",
    "        f.close()   "
   ]
  },
  {
   "cell_type": "code",
   "execution_count": 1,
   "metadata": {},
   "outputs": [],
   "source": [
    "f = [-55, -91, -2, -65, 63, -2, -48, 63, -2, -44, 63, 63, -55, -91, -2, -43, 63, -2, -23, 63, 63, 51, 48, 47, 51, 48, 63, -2, -22, 63, 63, 63, 63, 63, 63, 63, 63, 50, 49, 47, 50, 49, 63, 63, 63, -2, -88, 63, -55, -95, 63, 32, -80, -59, -72, -82, -61, -92, -58, -61, 63, 32, 48, 63, 32, 53, 56, 54, 63, 32, 50, 54, 56, 56, 57, 56, 63, -55, -94, 63, -55, -95, 63, 63, 32, -64, -38, -65, -8, -65, -7, -75, -27, 63, -55, -50]"
   ]
  },
  {
   "cell_type": "code",
   "execution_count": 5,
   "metadata": {},
   "outputs": [
    {
     "data": {
      "text/plain": [
       "96"
      ]
     },
     "execution_count": 5,
     "metadata": {},
     "output_type": "execute_result"
    }
   ],
   "source": [
    "len(f)"
   ]
  },
  {
   "cell_type": "code",
   "execution_count": null,
   "metadata": {},
   "outputs": [],
   "source": []
  }
 ],
 "metadata": {
  "kernelspec": {
   "display_name": "Python 3",
   "language": "python",
   "name": "python3"
  },
  "language_info": {
   "codemirror_mode": {
    "name": "ipython",
    "version": 3
   },
   "file_extension": ".py",
   "mimetype": "text/x-python",
   "name": "python",
   "nbconvert_exporter": "python",
   "pygments_lexer": "ipython3",
   "version": "3.11.2"
  },
  "orig_nbformat": 4
 },
 "nbformat": 4,
 "nbformat_minor": 2
}
