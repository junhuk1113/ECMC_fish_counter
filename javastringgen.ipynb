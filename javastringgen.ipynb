{
 "cells": [
  {
   "cell_type": "code",
   "execution_count": 17,
   "metadata": {},
   "outputs": [
    {
     "name": "stdout",
     "output_type": "stream",
     "text": [
      "\"개복치\",\"사자 물고기\",\"실러캔스\",\"대왕쥐가오리\",\"깃대돔\",\"장미 해파리\",\"크라켄\",\"투탕카 해마\",\"고래 상어\",\"피카소 피쉬\",\"\","
     ]
    }
   ],
   "source": [
    "file=open(\"fish_list/mythic_fish.txt\",encoding=\"UTF-8\")\n",
    "line = 'dd'\n",
    "while line!= \"\":\n",
    "    line = file.readline()\n",
    "    print(\"\\\"\"+line.strip(\"\\n\")+\"\\\"\",end=\",\")"
   ]
  },
  {
   "cell_type": "code",
   "execution_count": null,
   "metadata": {},
   "outputs": [],
   "source": []
  }
 ],
 "metadata": {
  "kernelspec": {
   "display_name": "Python 3",
   "language": "python",
   "name": "python3"
  },
  "language_info": {
   "codemirror_mode": {
    "name": "ipython",
    "version": 3
   },
   "file_extension": ".py",
   "mimetype": "text/x-python",
   "name": "python",
   "nbconvert_exporter": "python",
   "pygments_lexer": "ipython3",
   "version": "3.11.2"
  },
  "orig_nbformat": 4
 },
 "nbformat": 4,
 "nbformat_minor": 2
}
